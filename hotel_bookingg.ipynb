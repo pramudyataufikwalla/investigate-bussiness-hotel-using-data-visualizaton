{
  "nbformat": 4,
  "nbformat_minor": 0,
  "metadata": {
    "colab": {
      "provenance": []
    },
    "kernelspec": {
      "name": "python3",
      "display_name": "Python 3"
    },
    "language_info": {
      "name": "python"
    }
  },
  "cells": [
    {
      "cell_type": "code",
      "execution_count": 1,
      "metadata": {
        "id": "Najn5xv14Zqb"
      },
      "outputs": [],
      "source": [
        "#library import\n",
        "import warnings\n",
        "warnings.filterwarnings('ignore')\n",
        "\n",
        "import numpy as np\n",
        "import pandas as pd\n",
        "import seaborn as sns\n",
        "import matplotlib.pyplot as plt\n",
        "from scipy import stats"
      ]
    },
    {
      "cell_type": "code",
      "source": [
        "#import dataset\n",
        "dfbooking = pd.read_csv('hotel_bookings_data.csv')\n",
        "dfbooking.head(5)"
      ],
      "metadata": {
        "colab": {
          "base_uri": "https://localhost:8080/",
          "height": 386
        },
        "id": "FVBya4Ap4nEN",
        "outputId": "06646572-1b8a-403c-ed1b-4f5c1d8c3625"
      },
      "execution_count": 2,
      "outputs": [
        {
          "output_type": "execute_result",
          "data": {
            "text/plain": [
              "          hotel  is_canceled  lead_time  arrival_date_year arrival_date_month  \\\n",
              "0  Resort Hotel            0        342               2017          September   \n",
              "1  Resort Hotel            0        737               2017          September   \n",
              "2  Resort Hotel            0          7               2017          September   \n",
              "3  Resort Hotel            0         13               2017          September   \n",
              "4  Resort Hotel            0         14               2017          September   \n",
              "\n",
              "   arrival_date_week_number  arrival_date_day_of_month  \\\n",
              "0                        27                          1   \n",
              "1                        27                          1   \n",
              "2                        27                          1   \n",
              "3                        27                          1   \n",
              "4                        27                          1   \n",
              "\n",
              "   stays_in_weekend_nights  stays_in_weekdays_nights  adults  ...  \\\n",
              "0                        0                         0       2  ...   \n",
              "1                        0                         0       2  ...   \n",
              "2                        0                         1       1  ...   \n",
              "3                        0                         1       1  ...   \n",
              "4                        0                         2       2  ...   \n",
              "\n",
              "   booking_changes  deposit_type  agent company days_in_waiting_list  \\\n",
              "0                3    No Deposit    NaN     NaN                    0   \n",
              "1                4    No Deposit    NaN     NaN                    0   \n",
              "2                0    No Deposit    NaN     NaN                    0   \n",
              "3                0    No Deposit  304.0     NaN                    0   \n",
              "4                0    No Deposit  240.0     NaN                    0   \n",
              "\n",
              "  customer_type   adr  required_car_parking_spaces  total_of_special_requests  \\\n",
              "0      Personal   0.0                            0                          0   \n",
              "1      Personal   0.0                            0                          0   \n",
              "2      Personal  75.0                            0                          0   \n",
              "3      Personal  75.0                            0                          0   \n",
              "4      Personal  98.0                            0                          1   \n",
              "\n",
              "   reservation_status  \n",
              "0           Check-Out  \n",
              "1           Check-Out  \n",
              "2           Check-Out  \n",
              "3           Check-Out  \n",
              "4           Check-Out  \n",
              "\n",
              "[5 rows x 29 columns]"
            ],
            "text/html": [
              "\n",
              "  <div id=\"df-6068f326-b788-4035-ad37-0977f8ce945e\">\n",
              "    <div class=\"colab-df-container\">\n",
              "      <div>\n",
              "<style scoped>\n",
              "    .dataframe tbody tr th:only-of-type {\n",
              "        vertical-align: middle;\n",
              "    }\n",
              "\n",
              "    .dataframe tbody tr th {\n",
              "        vertical-align: top;\n",
              "    }\n",
              "\n",
              "    .dataframe thead th {\n",
              "        text-align: right;\n",
              "    }\n",
              "</style>\n",
              "<table border=\"1\" class=\"dataframe\">\n",
              "  <thead>\n",
              "    <tr style=\"text-align: right;\">\n",
              "      <th></th>\n",
              "      <th>hotel</th>\n",
              "      <th>is_canceled</th>\n",
              "      <th>lead_time</th>\n",
              "      <th>arrival_date_year</th>\n",
              "      <th>arrival_date_month</th>\n",
              "      <th>arrival_date_week_number</th>\n",
              "      <th>arrival_date_day_of_month</th>\n",
              "      <th>stays_in_weekend_nights</th>\n",
              "      <th>stays_in_weekdays_nights</th>\n",
              "      <th>adults</th>\n",
              "      <th>...</th>\n",
              "      <th>booking_changes</th>\n",
              "      <th>deposit_type</th>\n",
              "      <th>agent</th>\n",
              "      <th>company</th>\n",
              "      <th>days_in_waiting_list</th>\n",
              "      <th>customer_type</th>\n",
              "      <th>adr</th>\n",
              "      <th>required_car_parking_spaces</th>\n",
              "      <th>total_of_special_requests</th>\n",
              "      <th>reservation_status</th>\n",
              "    </tr>\n",
              "  </thead>\n",
              "  <tbody>\n",
              "    <tr>\n",
              "      <th>0</th>\n",
              "      <td>Resort Hotel</td>\n",
              "      <td>0</td>\n",
              "      <td>342</td>\n",
              "      <td>2017</td>\n",
              "      <td>September</td>\n",
              "      <td>27</td>\n",
              "      <td>1</td>\n",
              "      <td>0</td>\n",
              "      <td>0</td>\n",
              "      <td>2</td>\n",
              "      <td>...</td>\n",
              "      <td>3</td>\n",
              "      <td>No Deposit</td>\n",
              "      <td>NaN</td>\n",
              "      <td>NaN</td>\n",
              "      <td>0</td>\n",
              "      <td>Personal</td>\n",
              "      <td>0.0</td>\n",
              "      <td>0</td>\n",
              "      <td>0</td>\n",
              "      <td>Check-Out</td>\n",
              "    </tr>\n",
              "    <tr>\n",
              "      <th>1</th>\n",
              "      <td>Resort Hotel</td>\n",
              "      <td>0</td>\n",
              "      <td>737</td>\n",
              "      <td>2017</td>\n",
              "      <td>September</td>\n",
              "      <td>27</td>\n",
              "      <td>1</td>\n",
              "      <td>0</td>\n",
              "      <td>0</td>\n",
              "      <td>2</td>\n",
              "      <td>...</td>\n",
              "      <td>4</td>\n",
              "      <td>No Deposit</td>\n",
              "      <td>NaN</td>\n",
              "      <td>NaN</td>\n",
              "      <td>0</td>\n",
              "      <td>Personal</td>\n",
              "      <td>0.0</td>\n",
              "      <td>0</td>\n",
              "      <td>0</td>\n",
              "      <td>Check-Out</td>\n",
              "    </tr>\n",
              "    <tr>\n",
              "      <th>2</th>\n",
              "      <td>Resort Hotel</td>\n",
              "      <td>0</td>\n",
              "      <td>7</td>\n",
              "      <td>2017</td>\n",
              "      <td>September</td>\n",
              "      <td>27</td>\n",
              "      <td>1</td>\n",
              "      <td>0</td>\n",
              "      <td>1</td>\n",
              "      <td>1</td>\n",
              "      <td>...</td>\n",
              "      <td>0</td>\n",
              "      <td>No Deposit</td>\n",
              "      <td>NaN</td>\n",
              "      <td>NaN</td>\n",
              "      <td>0</td>\n",
              "      <td>Personal</td>\n",
              "      <td>75.0</td>\n",
              "      <td>0</td>\n",
              "      <td>0</td>\n",
              "      <td>Check-Out</td>\n",
              "    </tr>\n",
              "    <tr>\n",
              "      <th>3</th>\n",
              "      <td>Resort Hotel</td>\n",
              "      <td>0</td>\n",
              "      <td>13</td>\n",
              "      <td>2017</td>\n",
              "      <td>September</td>\n",
              "      <td>27</td>\n",
              "      <td>1</td>\n",
              "      <td>0</td>\n",
              "      <td>1</td>\n",
              "      <td>1</td>\n",
              "      <td>...</td>\n",
              "      <td>0</td>\n",
              "      <td>No Deposit</td>\n",
              "      <td>304.0</td>\n",
              "      <td>NaN</td>\n",
              "      <td>0</td>\n",
              "      <td>Personal</td>\n",
              "      <td>75.0</td>\n",
              "      <td>0</td>\n",
              "      <td>0</td>\n",
              "      <td>Check-Out</td>\n",
              "    </tr>\n",
              "    <tr>\n",
              "      <th>4</th>\n",
              "      <td>Resort Hotel</td>\n",
              "      <td>0</td>\n",
              "      <td>14</td>\n",
              "      <td>2017</td>\n",
              "      <td>September</td>\n",
              "      <td>27</td>\n",
              "      <td>1</td>\n",
              "      <td>0</td>\n",
              "      <td>2</td>\n",
              "      <td>2</td>\n",
              "      <td>...</td>\n",
              "      <td>0</td>\n",
              "      <td>No Deposit</td>\n",
              "      <td>240.0</td>\n",
              "      <td>NaN</td>\n",
              "      <td>0</td>\n",
              "      <td>Personal</td>\n",
              "      <td>98.0</td>\n",
              "      <td>0</td>\n",
              "      <td>1</td>\n",
              "      <td>Check-Out</td>\n",
              "    </tr>\n",
              "  </tbody>\n",
              "</table>\n",
              "<p>5 rows × 29 columns</p>\n",
              "</div>\n",
              "      <button class=\"colab-df-convert\" onclick=\"convertToInteractive('df-6068f326-b788-4035-ad37-0977f8ce945e')\"\n",
              "              title=\"Convert this dataframe to an interactive table.\"\n",
              "              style=\"display:none;\">\n",
              "        \n",
              "  <svg xmlns=\"http://www.w3.org/2000/svg\" height=\"24px\"viewBox=\"0 0 24 24\"\n",
              "       width=\"24px\">\n",
              "    <path d=\"M0 0h24v24H0V0z\" fill=\"none\"/>\n",
              "    <path d=\"M18.56 5.44l.94 2.06.94-2.06 2.06-.94-2.06-.94-.94-2.06-.94 2.06-2.06.94zm-11 1L8.5 8.5l.94-2.06 2.06-.94-2.06-.94L8.5 2.5l-.94 2.06-2.06.94zm10 10l.94 2.06.94-2.06 2.06-.94-2.06-.94-.94-2.06-.94 2.06-2.06.94z\"/><path d=\"M17.41 7.96l-1.37-1.37c-.4-.4-.92-.59-1.43-.59-.52 0-1.04.2-1.43.59L10.3 9.45l-7.72 7.72c-.78.78-.78 2.05 0 2.83L4 21.41c.39.39.9.59 1.41.59.51 0 1.02-.2 1.41-.59l7.78-7.78 2.81-2.81c.8-.78.8-2.07 0-2.86zM5.41 20L4 18.59l7.72-7.72 1.47 1.35L5.41 20z\"/>\n",
              "  </svg>\n",
              "      </button>\n",
              "      \n",
              "  <style>\n",
              "    .colab-df-container {\n",
              "      display:flex;\n",
              "      flex-wrap:wrap;\n",
              "      gap: 12px;\n",
              "    }\n",
              "\n",
              "    .colab-df-convert {\n",
              "      background-color: #E8F0FE;\n",
              "      border: none;\n",
              "      border-radius: 50%;\n",
              "      cursor: pointer;\n",
              "      display: none;\n",
              "      fill: #1967D2;\n",
              "      height: 32px;\n",
              "      padding: 0 0 0 0;\n",
              "      width: 32px;\n",
              "    }\n",
              "\n",
              "    .colab-df-convert:hover {\n",
              "      background-color: #E2EBFA;\n",
              "      box-shadow: 0px 1px 2px rgba(60, 64, 67, 0.3), 0px 1px 3px 1px rgba(60, 64, 67, 0.15);\n",
              "      fill: #174EA6;\n",
              "    }\n",
              "\n",
              "    [theme=dark] .colab-df-convert {\n",
              "      background-color: #3B4455;\n",
              "      fill: #D2E3FC;\n",
              "    }\n",
              "\n",
              "    [theme=dark] .colab-df-convert:hover {\n",
              "      background-color: #434B5C;\n",
              "      box-shadow: 0px 1px 3px 1px rgba(0, 0, 0, 0.15);\n",
              "      filter: drop-shadow(0px 1px 2px rgba(0, 0, 0, 0.3));\n",
              "      fill: #FFFFFF;\n",
              "    }\n",
              "  </style>\n",
              "\n",
              "      <script>\n",
              "        const buttonEl =\n",
              "          document.querySelector('#df-6068f326-b788-4035-ad37-0977f8ce945e button.colab-df-convert');\n",
              "        buttonEl.style.display =\n",
              "          google.colab.kernel.accessAllowed ? 'block' : 'none';\n",
              "\n",
              "        async function convertToInteractive(key) {\n",
              "          const element = document.querySelector('#df-6068f326-b788-4035-ad37-0977f8ce945e');\n",
              "          const dataTable =\n",
              "            await google.colab.kernel.invokeFunction('convertToInteractive',\n",
              "                                                     [key], {});\n",
              "          if (!dataTable) return;\n",
              "\n",
              "          const docLinkHtml = 'Like what you see? Visit the ' +\n",
              "            '<a target=\"_blank\" href=https://colab.research.google.com/notebooks/data_table.ipynb>data table notebook</a>'\n",
              "            + ' to learn more about interactive tables.';\n",
              "          element.innerHTML = '';\n",
              "          dataTable['output_type'] = 'display_data';\n",
              "          await google.colab.output.renderOutput(dataTable, element);\n",
              "          const docLink = document.createElement('div');\n",
              "          docLink.innerHTML = docLinkHtml;\n",
              "          element.appendChild(docLink);\n",
              "        }\n",
              "      </script>\n",
              "    </div>\n",
              "  </div>\n",
              "  "
            ]
          },
          "metadata": {},
          "execution_count": 2
        }
      ]
    },
    {
      "cell_type": "code",
      "source": [
        "dfbooking.info()"
      ],
      "metadata": {
        "colab": {
          "base_uri": "https://localhost:8080/"
        },
        "id": "K2Z03f9c439Y",
        "outputId": "a51ffd5d-52d3-4734-f43d-fc7a45566f7b"
      },
      "execution_count": 3,
      "outputs": [
        {
          "output_type": "stream",
          "name": "stdout",
          "text": [
            "<class 'pandas.core.frame.DataFrame'>\n",
            "RangeIndex: 119390 entries, 0 to 119389\n",
            "Data columns (total 29 columns):\n",
            " #   Column                          Non-Null Count   Dtype  \n",
            "---  ------                          --------------   -----  \n",
            " 0   hotel                           119390 non-null  object \n",
            " 1   is_canceled                     119390 non-null  int64  \n",
            " 2   lead_time                       119390 non-null  int64  \n",
            " 3   arrival_date_year               119390 non-null  int64  \n",
            " 4   arrival_date_month              119390 non-null  object \n",
            " 5   arrival_date_week_number        119390 non-null  int64  \n",
            " 6   arrival_date_day_of_month       119390 non-null  int64  \n",
            " 7   stays_in_weekend_nights         119390 non-null  int64  \n",
            " 8   stays_in_weekdays_nights        119390 non-null  int64  \n",
            " 9   adults                          119390 non-null  int64  \n",
            " 10  children                        119386 non-null  float64\n",
            " 11  babies                          119390 non-null  int64  \n",
            " 12  meal                            119390 non-null  object \n",
            " 13  city                            118902 non-null  object \n",
            " 14  market_segment                  119390 non-null  object \n",
            " 15  distribution_channel            119390 non-null  object \n",
            " 16  is_repeated_guest               119390 non-null  int64  \n",
            " 17  previous_cancellations          119390 non-null  int64  \n",
            " 18  previous_bookings_not_canceled  119390 non-null  int64  \n",
            " 19  booking_changes                 119390 non-null  int64  \n",
            " 20  deposit_type                    119390 non-null  object \n",
            " 21  agent                           103050 non-null  float64\n",
            " 22  company                         6797 non-null    float64\n",
            " 23  days_in_waiting_list            119390 non-null  int64  \n",
            " 24  customer_type                   119390 non-null  object \n",
            " 25  adr                             119390 non-null  float64\n",
            " 26  required_car_parking_spaces     119390 non-null  int64  \n",
            " 27  total_of_special_requests       119390 non-null  int64  \n",
            " 28  reservation_status              119390 non-null  object \n",
            "dtypes: float64(4), int64(16), object(9)\n",
            "memory usage: 26.4+ MB\n"
          ]
        }
      ]
    },
    {
      "cell_type": "code",
      "source": [
        "#melihat jumlah keseluruhan data berdasarkan baris\n",
        "print(dfbooking.shape[0])"
      ],
      "metadata": {
        "colab": {
          "base_uri": "https://localhost:8080/"
        },
        "id": "Gph-dxfT48G7",
        "outputId": "f0b753da-cd78-4a4f-f33b-6ac1dbd4a871"
      },
      "execution_count": 4,
      "outputs": [
        {
          "output_type": "stream",
          "name": "stdout",
          "text": [
            "119390\n"
          ]
        }
      ]
    },
    {
      "cell_type": "markdown",
      "source": [
        "###1.handling missing value"
      ],
      "metadata": {
        "id": "ujkOQNgcEHV_"
      }
    },
    {
      "cell_type": "code",
      "source": [
        "#cek kolom mana saja mengandung missing values\n",
        "print(dfbooking.isnull().any())"
      ],
      "metadata": {
        "colab": {
          "base_uri": "https://localhost:8080/"
        },
        "id": "tka1xX195BYk",
        "outputId": "7e5e8169-9740-442e-b00f-93e1ae218db7"
      },
      "execution_count": 5,
      "outputs": [
        {
          "output_type": "stream",
          "name": "stdout",
          "text": [
            "hotel                             False\n",
            "is_canceled                       False\n",
            "lead_time                         False\n",
            "arrival_date_year                 False\n",
            "arrival_date_month                False\n",
            "arrival_date_week_number          False\n",
            "arrival_date_day_of_month         False\n",
            "stays_in_weekend_nights           False\n",
            "stays_in_weekdays_nights          False\n",
            "adults                            False\n",
            "children                           True\n",
            "babies                            False\n",
            "meal                              False\n",
            "city                               True\n",
            "market_segment                    False\n",
            "distribution_channel              False\n",
            "is_repeated_guest                 False\n",
            "previous_cancellations            False\n",
            "previous_bookings_not_canceled    False\n",
            "booking_changes                   False\n",
            "deposit_type                      False\n",
            "agent                              True\n",
            "company                            True\n",
            "days_in_waiting_list              False\n",
            "customer_type                     False\n",
            "adr                               False\n",
            "required_car_parking_spaces       False\n",
            "total_of_special_requests         False\n",
            "reservation_status                False\n",
            "dtype: bool\n"
          ]
        }
      ]
    },
    {
      "cell_type": "code",
      "source": [
        "#cek jumlah missing data pada setiap kolom\n",
        "print(dfbooking.isnull().sum())"
      ],
      "metadata": {
        "colab": {
          "base_uri": "https://localhost:8080/"
        },
        "id": "AJJf0FEl5Eo0",
        "outputId": "e91a2394-4aff-43b1-ac74-17a4faffe332"
      },
      "execution_count": 6,
      "outputs": [
        {
          "output_type": "stream",
          "name": "stdout",
          "text": [
            "hotel                                  0\n",
            "is_canceled                            0\n",
            "lead_time                              0\n",
            "arrival_date_year                      0\n",
            "arrival_date_month                     0\n",
            "arrival_date_week_number               0\n",
            "arrival_date_day_of_month              0\n",
            "stays_in_weekend_nights                0\n",
            "stays_in_weekdays_nights               0\n",
            "adults                                 0\n",
            "children                               4\n",
            "babies                                 0\n",
            "meal                                   0\n",
            "city                                 488\n",
            "market_segment                         0\n",
            "distribution_channel                   0\n",
            "is_repeated_guest                      0\n",
            "previous_cancellations                 0\n",
            "previous_bookings_not_canceled         0\n",
            "booking_changes                        0\n",
            "deposit_type                           0\n",
            "agent                              16340\n",
            "company                           112593\n",
            "days_in_waiting_list                   0\n",
            "customer_type                          0\n",
            "adr                                    0\n",
            "required_car_parking_spaces            0\n",
            "total_of_special_requests              0\n",
            "reservation_status                     0\n",
            "dtype: int64\n"
          ]
        }
      ]
    },
    {
      "cell_type": "markdown",
      "source": [
        "diketahui kolom data yang bersifat TRUE adalah kolom-kolom yang memiliki missing data : \n",
        "berikut kolom-kolomnya\n",
        "- CHILDREN 4\n",
        "- CITY 488\n",
        "- AGENT 16340\n",
        "- COMPANY 112593"
      ],
      "metadata": {
        "id": "j3stHQYJ8gY2"
      }
    },
    {
      "cell_type": "code",
      "source": [
        "#menampilkan kolom-kolom yang terdeteksi missing value\n",
        "selected_cols = ['children','city','agent','company']\n",
        "dfbooking_selected = dfbooking.loc[:, selected_cols]\n",
        "\n",
        "dfbooking_selected.head()"
      ],
      "metadata": {
        "colab": {
          "base_uri": "https://localhost:8080/",
          "height": 206
        },
        "id": "0wBrZwrm5O5K",
        "outputId": "c2c461bd-4132-443d-aff1-4ef3330e5c60"
      },
      "execution_count": 7,
      "outputs": [
        {
          "output_type": "execute_result",
          "data": {
            "text/plain": [
              "   children              city  agent  company\n",
              "0       0.0     Kota Denpasar    NaN      NaN\n",
              "1       0.0     Kota Denpasar    NaN      NaN\n",
              "2       0.0  Kabupaten Bangka    NaN      NaN\n",
              "3       0.0  Kabupaten Bangka  304.0      NaN\n",
              "4       0.0  Kabupaten Bangka  240.0      NaN"
            ],
            "text/html": [
              "\n",
              "  <div id=\"df-1cb3a1f3-d17f-4ddb-a8b6-d7f250e05280\">\n",
              "    <div class=\"colab-df-container\">\n",
              "      <div>\n",
              "<style scoped>\n",
              "    .dataframe tbody tr th:only-of-type {\n",
              "        vertical-align: middle;\n",
              "    }\n",
              "\n",
              "    .dataframe tbody tr th {\n",
              "        vertical-align: top;\n",
              "    }\n",
              "\n",
              "    .dataframe thead th {\n",
              "        text-align: right;\n",
              "    }\n",
              "</style>\n",
              "<table border=\"1\" class=\"dataframe\">\n",
              "  <thead>\n",
              "    <tr style=\"text-align: right;\">\n",
              "      <th></th>\n",
              "      <th>children</th>\n",
              "      <th>city</th>\n",
              "      <th>agent</th>\n",
              "      <th>company</th>\n",
              "    </tr>\n",
              "  </thead>\n",
              "  <tbody>\n",
              "    <tr>\n",
              "      <th>0</th>\n",
              "      <td>0.0</td>\n",
              "      <td>Kota Denpasar</td>\n",
              "      <td>NaN</td>\n",
              "      <td>NaN</td>\n",
              "    </tr>\n",
              "    <tr>\n",
              "      <th>1</th>\n",
              "      <td>0.0</td>\n",
              "      <td>Kota Denpasar</td>\n",
              "      <td>NaN</td>\n",
              "      <td>NaN</td>\n",
              "    </tr>\n",
              "    <tr>\n",
              "      <th>2</th>\n",
              "      <td>0.0</td>\n",
              "      <td>Kabupaten Bangka</td>\n",
              "      <td>NaN</td>\n",
              "      <td>NaN</td>\n",
              "    </tr>\n",
              "    <tr>\n",
              "      <th>3</th>\n",
              "      <td>0.0</td>\n",
              "      <td>Kabupaten Bangka</td>\n",
              "      <td>304.0</td>\n",
              "      <td>NaN</td>\n",
              "    </tr>\n",
              "    <tr>\n",
              "      <th>4</th>\n",
              "      <td>0.0</td>\n",
              "      <td>Kabupaten Bangka</td>\n",
              "      <td>240.0</td>\n",
              "      <td>NaN</td>\n",
              "    </tr>\n",
              "  </tbody>\n",
              "</table>\n",
              "</div>\n",
              "      <button class=\"colab-df-convert\" onclick=\"convertToInteractive('df-1cb3a1f3-d17f-4ddb-a8b6-d7f250e05280')\"\n",
              "              title=\"Convert this dataframe to an interactive table.\"\n",
              "              style=\"display:none;\">\n",
              "        \n",
              "  <svg xmlns=\"http://www.w3.org/2000/svg\" height=\"24px\"viewBox=\"0 0 24 24\"\n",
              "       width=\"24px\">\n",
              "    <path d=\"M0 0h24v24H0V0z\" fill=\"none\"/>\n",
              "    <path d=\"M18.56 5.44l.94 2.06.94-2.06 2.06-.94-2.06-.94-.94-2.06-.94 2.06-2.06.94zm-11 1L8.5 8.5l.94-2.06 2.06-.94-2.06-.94L8.5 2.5l-.94 2.06-2.06.94zm10 10l.94 2.06.94-2.06 2.06-.94-2.06-.94-.94-2.06-.94 2.06-2.06.94z\"/><path d=\"M17.41 7.96l-1.37-1.37c-.4-.4-.92-.59-1.43-.59-.52 0-1.04.2-1.43.59L10.3 9.45l-7.72 7.72c-.78.78-.78 2.05 0 2.83L4 21.41c.39.39.9.59 1.41.59.51 0 1.02-.2 1.41-.59l7.78-7.78 2.81-2.81c.8-.78.8-2.07 0-2.86zM5.41 20L4 18.59l7.72-7.72 1.47 1.35L5.41 20z\"/>\n",
              "  </svg>\n",
              "      </button>\n",
              "      \n",
              "  <style>\n",
              "    .colab-df-container {\n",
              "      display:flex;\n",
              "      flex-wrap:wrap;\n",
              "      gap: 12px;\n",
              "    }\n",
              "\n",
              "    .colab-df-convert {\n",
              "      background-color: #E8F0FE;\n",
              "      border: none;\n",
              "      border-radius: 50%;\n",
              "      cursor: pointer;\n",
              "      display: none;\n",
              "      fill: #1967D2;\n",
              "      height: 32px;\n",
              "      padding: 0 0 0 0;\n",
              "      width: 32px;\n",
              "    }\n",
              "\n",
              "    .colab-df-convert:hover {\n",
              "      background-color: #E2EBFA;\n",
              "      box-shadow: 0px 1px 2px rgba(60, 64, 67, 0.3), 0px 1px 3px 1px rgba(60, 64, 67, 0.15);\n",
              "      fill: #174EA6;\n",
              "    }\n",
              "\n",
              "    [theme=dark] .colab-df-convert {\n",
              "      background-color: #3B4455;\n",
              "      fill: #D2E3FC;\n",
              "    }\n",
              "\n",
              "    [theme=dark] .colab-df-convert:hover {\n",
              "      background-color: #434B5C;\n",
              "      box-shadow: 0px 1px 3px 1px rgba(0, 0, 0, 0.15);\n",
              "      filter: drop-shadow(0px 1px 2px rgba(0, 0, 0, 0.3));\n",
              "      fill: #FFFFFF;\n",
              "    }\n",
              "  </style>\n",
              "\n",
              "      <script>\n",
              "        const buttonEl =\n",
              "          document.querySelector('#df-1cb3a1f3-d17f-4ddb-a8b6-d7f250e05280 button.colab-df-convert');\n",
              "        buttonEl.style.display =\n",
              "          google.colab.kernel.accessAllowed ? 'block' : 'none';\n",
              "\n",
              "        async function convertToInteractive(key) {\n",
              "          const element = document.querySelector('#df-1cb3a1f3-d17f-4ddb-a8b6-d7f250e05280');\n",
              "          const dataTable =\n",
              "            await google.colab.kernel.invokeFunction('convertToInteractive',\n",
              "                                                     [key], {});\n",
              "          if (!dataTable) return;\n",
              "\n",
              "          const docLinkHtml = 'Like what you see? Visit the ' +\n",
              "            '<a target=\"_blank\" href=https://colab.research.google.com/notebooks/data_table.ipynb>data table notebook</a>'\n",
              "            + ' to learn more about interactive tables.';\n",
              "          element.innerHTML = '';\n",
              "          dataTable['output_type'] = 'display_data';\n",
              "          await google.colab.output.renderOutput(dataTable, element);\n",
              "          const docLink = document.createElement('div');\n",
              "          docLink.innerHTML = docLinkHtml;\n",
              "          element.appendChild(docLink);\n",
              "        }\n",
              "      </script>\n",
              "    </div>\n",
              "  </div>\n",
              "  "
            ]
          },
          "metadata": {},
          "execution_count": 7
        }
      ]
    },
    {
      "cell_type": "markdown",
      "source": [
        "dapat kita simpulkan bahwa missing value untuk setiap kolom bisa kita asumsikan :\n",
        "- pada missing values di kolom CITY asumsikan pengunjung yang tidak mencantumkan kota mereka /\"unknown\"\n",
        "\n",
        "- pada missing values di kolom CHILDREN kita asumsikan bahwa pengunjung tersebut tidak membawa anak-anak / \"0.0\"\n",
        "\n",
        "- pada missing values AGENT dan COMPANY kita asumsikan bahwa pengunjung tersebut tidak membooking tiket hotel lewat agent ataupun company /\"0.0\""
      ],
      "metadata": {
        "id": "RMAzu16n9SnH"
      }
    },
    {
      "cell_type": "markdown",
      "source": [],
      "metadata": {
        "id": "WmlT782T86ZU"
      }
    },
    {
      "cell_type": "code",
      "source": [
        "#handling missing values \n",
        "dfbooking['children']=dfbooking['children'].fillna(0.0)\n",
        "dfbooking['agent']=dfbooking['agent'].fillna(0.0)\n",
        "dfbooking['company']=dfbooking['company'].fillna(0.0)\n",
        "dfbooking['city']=dfbooking['city'].fillna('unknown')"
      ],
      "metadata": {
        "id": "WxyIMTR05VXs"
      },
      "execution_count": 8,
      "outputs": []
    },
    {
      "cell_type": "code",
      "source": [
        "#mengecek missing value pada dataset\n",
        "print(dfbooking.isnull().sum())"
      ],
      "metadata": {
        "colab": {
          "base_uri": "https://localhost:8080/"
        },
        "id": "ReHP1BVvA7US",
        "outputId": "b209a8ca-ffb5-4bef-86ef-22526afd7128"
      },
      "execution_count": 9,
      "outputs": [
        {
          "output_type": "stream",
          "name": "stdout",
          "text": [
            "hotel                             0\n",
            "is_canceled                       0\n",
            "lead_time                         0\n",
            "arrival_date_year                 0\n",
            "arrival_date_month                0\n",
            "arrival_date_week_number          0\n",
            "arrival_date_day_of_month         0\n",
            "stays_in_weekend_nights           0\n",
            "stays_in_weekdays_nights          0\n",
            "adults                            0\n",
            "children                          0\n",
            "babies                            0\n",
            "meal                              0\n",
            "city                              0\n",
            "market_segment                    0\n",
            "distribution_channel              0\n",
            "is_repeated_guest                 0\n",
            "previous_cancellations            0\n",
            "previous_bookings_not_canceled    0\n",
            "booking_changes                   0\n",
            "deposit_type                      0\n",
            "agent                             0\n",
            "company                           0\n",
            "days_in_waiting_list              0\n",
            "customer_type                     0\n",
            "adr                               0\n",
            "required_car_parking_spaces       0\n",
            "total_of_special_requests         0\n",
            "reservation_status                0\n",
            "dtype: int64\n"
          ]
        }
      ]
    },
    {
      "cell_type": "code",
      "source": [],
      "metadata": {
        "id": "3hiVHFCQCYw5"
      },
      "execution_count": 9,
      "outputs": []
    },
    {
      "cell_type": "markdown",
      "source": [
        "###2.handling invalid values"
      ],
      "metadata": {
        "id": "NGgEqRiQEPtx"
      }
    },
    {
      "cell_type": "code",
      "source": [
        "#menampilkan values bertipe object\n",
        "kolom_objek = ['hotel', 'meal', 'city', 'market_segment','deposit_type', 'customer_type', 'reservation_status']\n",
        "\n",
        "for kolom in kolom_objek:\n",
        "    nilai_unik = dfbooking[kolom].unique()\n",
        "    print(f\"Nilai unik pada kolom '{kolom}':\")\n",
        "    print(nilai_unik)\n",
        "    print()"
      ],
      "metadata": {
        "colab": {
          "base_uri": "https://localhost:8080/"
        },
        "id": "TZowEJ84EbN3",
        "outputId": "8be3cfa3-a1e3-4cb1-d316-fd6c45a1675e"
      },
      "execution_count": 10,
      "outputs": [
        {
          "output_type": "stream",
          "name": "stdout",
          "text": [
            "Nilai unik pada kolom 'hotel':\n",
            "['Resort Hotel' 'City Hotel']\n",
            "\n",
            "Nilai unik pada kolom 'meal':\n",
            "['Breakfast' 'Full Board' 'Dinner' 'No Meal' 'Undefined']\n",
            "\n",
            "Nilai unik pada kolom 'city':\n",
            "['Kota Denpasar' 'Kabupaten Bangka' 'Kabupaten Sleman' 'Kota Batu'\n",
            " 'Kota Malang' 'Kota Yogyakarta' 'unknown' 'Kabupaten Tangerang'\n",
            " 'Kota Semarang' 'Kota Serang' 'Kota Tangerang' 'Kota Bogor'\n",
            " 'Kabupaten Bandung' 'Kabupaten Magelang' 'Kabupaten Sumedang'\n",
            " 'Kota Jakarta Timur' 'Kabupaten Purwakarta' 'Kabupaten Kepulauan Seribu'\n",
            " 'Kabupaten Belitung' 'Kota Jakarta Pusat' 'Kota Jakarta Selatan'\n",
            " 'Kota Surabaya' 'Kota Jakarta Utara' 'Kota Gorontalo' 'Kota Jambi'\n",
            " 'Kota Jakarta Barat' 'Kota Bengkulu' 'Kabupaten Bandung Barat'\n",
            " 'Kabupaten Bekasi' 'Kabupaten Bogor' 'Kabupaten Ciamis'\n",
            " 'Kabupaten Cianjur' 'Kabupaten Cirebon' 'Kota Cimahi'\n",
            " 'Kabupaten Indramayu' 'Kabupaten Karawang' 'Kabupaten Kuningan'\n",
            " 'Kabupaten Majalengka' 'Kabupaten Serang' 'Kota Pangkal Pinang'\n",
            " 'Kabupaten Subang' 'Kabupaten Sukabumi' 'Kabupaten Garut'\n",
            " 'Kabupaten Tasikmalaya' 'Kota Bandung' 'Kota Banjar' 'Kota Bekasi'\n",
            " 'Kabupaten Pandeglang' 'Kabupaten Pangandaran' 'Kota Cirebon'\n",
            " 'Kota Depok' 'Kota Sukabumi' 'Kota Tasikmalaya' 'Kabupaten Banjarnegara'\n",
            " 'Kabupaten Banyumas' 'Kabupaten Batang' 'Kabupaten Blora'\n",
            " 'Kabupaten Boyolali' 'Kabupaten Brebes' 'Kabupaten Cilacap'\n",
            " 'Kabupaten Demak' 'Kabupaten Grobogan' 'Kabupaten Jepara'\n",
            " 'Kabupaten Karanganyar' 'Kabupaten Kebumen' 'Kabupaten Kendal'\n",
            " 'Kabupaten Klaten' 'Kabupaten Kudus' 'Kota Kediri' 'Kabupaten Pati'\n",
            " 'Kabupaten Pekalongan' 'Kabupaten Pemalang' 'Kabupaten Purbalingga'\n",
            " 'Kabupaten Purworejo' 'Kabupaten Rembang' 'Kabupaten Semarang'\n",
            " 'Kabupaten Sragen' 'Kabupaten Sukoharjo' 'Kabupaten Tegal'\n",
            " 'Kabupaten Temanggung' 'Kabupaten Wonogiri' 'Kabupaten Wonosobo'\n",
            " 'Kota Magelang' 'Kota Pekalongan' 'Kota Salatiga' 'Kabupaten Bantul'\n",
            " 'Kota Surakarta' 'Kota Tegal' 'Kabupaten Bangkalan'\n",
            " 'Kabupaten Banyuwangi' 'Kabupaten Blitar' 'Kabupaten Bojonegoro'\n",
            " 'Kabupaten Bondowoso' 'Kabupaten Gresik' 'Kabupaten Jember'\n",
            " 'Kabupaten Jombang' 'Kabupaten Kediri' 'Kabupaten Lamongan'\n",
            " 'Kabupaten Lumajang' 'Kabupaten Madiun' 'Kabupaten Magetan'\n",
            " 'Kabupaten Kerinci' 'Kabupaten Mojokerto' 'Kabupaten Nganjuk'\n",
            " 'Kabupaten Ngawi' 'Kabupaten Pacitan' 'Kabupaten Pamekasan'\n",
            " 'Kabupaten Pasuruan' 'Kabupaten Ponorogo' 'Kabupaten Probolinggo'\n",
            " 'Kabupaten Sampang' 'Kabupaten Sidoarjo' 'Kabupaten Situbondo'\n",
            " 'Kabupaten Sumenep' 'Kabupaten Trenggalek' 'Kabupaten Tuban'\n",
            " 'Kabupaten Tulungagung' 'Kabupaten Gunung Kidul' 'Kota Blitar'\n",
            " 'Kota Tangerang Selatan' 'Kota Madiun' 'Kota Cilegon' 'Kota Mojokerto'\n",
            " 'Kota Pasuruan' 'Kota Probolinggo' 'Kabupaten Malang'\n",
            " 'Kabupaten Kapuas Hulu' 'Kabupaten Ketapang' 'Kota Pontianak'\n",
            " 'Kabupaten Banjar' 'Kabupaten Barito Kuala' 'Kota Banjarbaru'\n",
            " 'Kota Banjarmasin' 'Kabupaten Kapuas' 'Kabupaten Katingan'\n",
            " 'Kabupaten Kotawaringin Barat' 'Kabupaten Kotawaringin Timur'\n",
            " 'Kabupaten Musi Banyuasin' 'Kabupaten Murung Raya' 'Kota Palembang'\n",
            " 'Kabupaten Seruyan' 'Kabupaten Sukamara' 'Kota Palangka Raya'\n",
            " 'Kota Balikpapan' 'Kota Bontang' 'Kota Samarinda' 'Kabupaten Berau'\n",
            " 'Kabupaten Kutai Barat' 'Kota Tarakan' 'Kota Batam'\n",
            " 'Kabupaten Pesisir Barat' 'Kabupaten Pringsewu' 'Kota Bandar Lampung'\n",
            " 'Kota Lampung Timur' 'Kota Ambon' 'Kabupaten Kepulauan Aru'\n",
            " 'Kabupaten Maluku Barat Daya' 'Kabupaten Maluku Tengah'\n",
            " 'Kabupaten Maluku Tenggara' 'Kabupaten Maluku Tenggara Barat'\n",
            " 'Kabupaten Halmahera Selatan' 'Kota Ternate' 'Kota Tidore Kepulauan'\n",
            " 'Kabupaten Aceh Jaya' 'Kota Banda Aceh' 'Kota Lhokseumawe' 'Kota Sabang'\n",
            " 'Kabupaten Lombok Barat' 'Kabupaten Sumbawa' 'Kota Mataram'\n",
            " 'Kabupaten Flores Timur' 'Kabupaten Timor Tengah Selatan' 'Kota Jayapura'\n",
            " 'Kota Bukittinggi' 'Kota Padang' 'Kabupaten Nias' 'Kota Binjai' 'Medan']\n",
            "\n",
            "Nilai unik pada kolom 'market_segment':\n",
            "['Direct' 'Corporate' 'Online TA' 'Offline TA/TO' 'Complementary' 'Groups'\n",
            " 'Undefined' 'Aviation']\n",
            "\n",
            "Nilai unik pada kolom 'deposit_type':\n",
            "['No Deposit' 'Refundable' 'Non Refund']\n",
            "\n",
            "Nilai unik pada kolom 'customer_type':\n",
            "['Personal' 'Contract' 'Family' 'Bussiness']\n",
            "\n",
            "Nilai unik pada kolom 'reservation_status':\n",
            "['Check-Out' 'Canceled' 'No-Show']\n",
            "\n"
          ]
        }
      ]
    },
    {
      "cell_type": "markdown",
      "source": [
        "terdapat 2 kolom yang memiliki arti values yang tidak sesuai yaitu \n",
        "- kolom MEAL = 'Undefined'\n",
        "- kolom MARKET_SEGMENT = 'Undefined'\n"
      ],
      "metadata": {
        "id": "dBaPpHNXHoPv"
      }
    },
    {
      "cell_type": "markdown",
      "source": [
        "dapat disimpulkan untuk kolom MEAL values \"Undefined\" dapat kita ubah menjadi \"Nomeal\" dikarenakan nilai \"undifined\" mengindikasikan bahwa tidak ada pilihan makanan yang dipilih atau tidak ada permintaan makanan khusus.\n",
        "\n",
        "untuk kolom MARKET_SEGMENT values \"undefined\" dirubah menjadi \"OTHER\" dengan alasan suatu segmen yang tidak spesifik atau tidak terdefinisi dengan jelas. "
      ],
      "metadata": {
        "id": "ju9Ki0y6KZLg"
      }
    },
    {
      "cell_type": "code",
      "source": [
        "#merubah values undfined pada kolom MEAL\n",
        "dfbooking[\"meal\"] = dfbooking[\"meal\"].replace(\"Undefined\", \"No Meal\")\n"
      ],
      "metadata": {
        "id": "X0yEnnlLGRDF"
      },
      "execution_count": 17,
      "outputs": []
    },
    {
      "cell_type": "code",
      "source": [
        "#merubah values undifined pada kolom MARKET_SEGMENT\n",
        "dfbooking[\"market_segment\"] = dfbooking[\"market_segment\"].replace(\"Undefined\", \"Other\")"
      ],
      "metadata": {
        "id": "D9dci9Rt-jX1"
      },
      "execution_count": 24,
      "outputs": []
    },
    {
      "cell_type": "code",
      "source": [
        "#Menampilkan values object\n",
        "kolom_object = ['hotel', 'meal', 'city', 'market_segment','deposit_type', 'customer_type', 'reservation_status']\n",
        "\n",
        "for kolom in kolom_object:\n",
        "    nilai_unik = dfbooking[kolom].unique()\n",
        "    print(f\"Nilai unik pada kolom '{kolom}':\")\n",
        "    print(nilai_unik)\n",
        "    print()"
      ],
      "metadata": {
        "colab": {
          "base_uri": "https://localhost:8080/"
        },
        "id": "V7G8x511Cimu",
        "outputId": "ca463144-5f0c-4e71-a4c8-f8fc69935b36"
      },
      "execution_count": 25,
      "outputs": [
        {
          "output_type": "stream",
          "name": "stdout",
          "text": [
            "Nilai unik pada kolom 'hotel':\n",
            "['Resort Hotel' 'City Hotel']\n",
            "\n",
            "Nilai unik pada kolom 'meal':\n",
            "['Breakfast' 'Full Board' 'Dinner' 'No Meal']\n",
            "\n",
            "Nilai unik pada kolom 'city':\n",
            "['Kota Denpasar' 'Kabupaten Bangka' 'Kabupaten Sleman' 'Kota Batu'\n",
            " 'Kota Malang' 'Kota Yogyakarta' 'unknown' 'Kabupaten Tangerang'\n",
            " 'Kota Semarang' 'Kota Serang' 'Kota Tangerang' 'Kota Bogor'\n",
            " 'Kabupaten Bandung' 'Kabupaten Magelang' 'Kabupaten Sumedang'\n",
            " 'Kota Jakarta Timur' 'Kabupaten Purwakarta' 'Kabupaten Kepulauan Seribu'\n",
            " 'Kabupaten Belitung' 'Kota Jakarta Pusat' 'Kota Jakarta Selatan'\n",
            " 'Kota Surabaya' 'Kota Jakarta Utara' 'Kota Gorontalo' 'Kota Jambi'\n",
            " 'Kota Jakarta Barat' 'Kota Bengkulu' 'Kabupaten Bandung Barat'\n",
            " 'Kabupaten Bekasi' 'Kabupaten Bogor' 'Kabupaten Ciamis'\n",
            " 'Kabupaten Cianjur' 'Kabupaten Cirebon' 'Kota Cimahi'\n",
            " 'Kabupaten Indramayu' 'Kabupaten Karawang' 'Kabupaten Kuningan'\n",
            " 'Kabupaten Majalengka' 'Kabupaten Serang' 'Kota Pangkal Pinang'\n",
            " 'Kabupaten Subang' 'Kabupaten Sukabumi' 'Kabupaten Garut'\n",
            " 'Kabupaten Tasikmalaya' 'Kota Bandung' 'Kota Banjar' 'Kota Bekasi'\n",
            " 'Kabupaten Pandeglang' 'Kabupaten Pangandaran' 'Kota Cirebon'\n",
            " 'Kota Depok' 'Kota Sukabumi' 'Kota Tasikmalaya' 'Kabupaten Banjarnegara'\n",
            " 'Kabupaten Banyumas' 'Kabupaten Batang' 'Kabupaten Blora'\n",
            " 'Kabupaten Boyolali' 'Kabupaten Brebes' 'Kabupaten Cilacap'\n",
            " 'Kabupaten Demak' 'Kabupaten Grobogan' 'Kabupaten Jepara'\n",
            " 'Kabupaten Karanganyar' 'Kabupaten Kebumen' 'Kabupaten Kendal'\n",
            " 'Kabupaten Klaten' 'Kabupaten Kudus' 'Kota Kediri' 'Kabupaten Pati'\n",
            " 'Kabupaten Pekalongan' 'Kabupaten Pemalang' 'Kabupaten Purbalingga'\n",
            " 'Kabupaten Purworejo' 'Kabupaten Rembang' 'Kabupaten Semarang'\n",
            " 'Kabupaten Sragen' 'Kabupaten Sukoharjo' 'Kabupaten Tegal'\n",
            " 'Kabupaten Temanggung' 'Kabupaten Wonogiri' 'Kabupaten Wonosobo'\n",
            " 'Kota Magelang' 'Kota Pekalongan' 'Kota Salatiga' 'Kabupaten Bantul'\n",
            " 'Kota Surakarta' 'Kota Tegal' 'Kabupaten Bangkalan'\n",
            " 'Kabupaten Banyuwangi' 'Kabupaten Blitar' 'Kabupaten Bojonegoro'\n",
            " 'Kabupaten Bondowoso' 'Kabupaten Gresik' 'Kabupaten Jember'\n",
            " 'Kabupaten Jombang' 'Kabupaten Kediri' 'Kabupaten Lamongan'\n",
            " 'Kabupaten Lumajang' 'Kabupaten Madiun' 'Kabupaten Magetan'\n",
            " 'Kabupaten Kerinci' 'Kabupaten Mojokerto' 'Kabupaten Nganjuk'\n",
            " 'Kabupaten Ngawi' 'Kabupaten Pacitan' 'Kabupaten Pamekasan'\n",
            " 'Kabupaten Pasuruan' 'Kabupaten Ponorogo' 'Kabupaten Probolinggo'\n",
            " 'Kabupaten Sampang' 'Kabupaten Sidoarjo' 'Kabupaten Situbondo'\n",
            " 'Kabupaten Sumenep' 'Kabupaten Trenggalek' 'Kabupaten Tuban'\n",
            " 'Kabupaten Tulungagung' 'Kabupaten Gunung Kidul' 'Kota Blitar'\n",
            " 'Kota Tangerang Selatan' 'Kota Madiun' 'Kota Cilegon' 'Kota Mojokerto'\n",
            " 'Kota Pasuruan' 'Kota Probolinggo' 'Kabupaten Malang'\n",
            " 'Kabupaten Kapuas Hulu' 'Kabupaten Ketapang' 'Kota Pontianak'\n",
            " 'Kabupaten Banjar' 'Kabupaten Barito Kuala' 'Kota Banjarbaru'\n",
            " 'Kota Banjarmasin' 'Kabupaten Kapuas' 'Kabupaten Katingan'\n",
            " 'Kabupaten Kotawaringin Barat' 'Kabupaten Kotawaringin Timur'\n",
            " 'Kabupaten Musi Banyuasin' 'Kabupaten Murung Raya' 'Kota Palembang'\n",
            " 'Kabupaten Seruyan' 'Kabupaten Sukamara' 'Kota Palangka Raya'\n",
            " 'Kota Balikpapan' 'Kota Bontang' 'Kota Samarinda' 'Kabupaten Berau'\n",
            " 'Kabupaten Kutai Barat' 'Kota Tarakan' 'Kota Batam'\n",
            " 'Kabupaten Pesisir Barat' 'Kabupaten Pringsewu' 'Kota Bandar Lampung'\n",
            " 'Kota Lampung Timur' 'Kota Ambon' 'Kabupaten Kepulauan Aru'\n",
            " 'Kabupaten Maluku Barat Daya' 'Kabupaten Maluku Tengah'\n",
            " 'Kabupaten Maluku Tenggara' 'Kabupaten Maluku Tenggara Barat'\n",
            " 'Kabupaten Halmahera Selatan' 'Kota Ternate' 'Kota Tidore Kepulauan'\n",
            " 'Kabupaten Aceh Jaya' 'Kota Banda Aceh' 'Kota Lhokseumawe' 'Kota Sabang'\n",
            " 'Kabupaten Lombok Barat' 'Kabupaten Sumbawa' 'Kota Mataram'\n",
            " 'Kabupaten Flores Timur' 'Kabupaten Timor Tengah Selatan' 'Kota Jayapura'\n",
            " 'Kota Bukittinggi' 'Kota Padang' 'Kabupaten Nias' 'Kota Binjai' 'Medan']\n",
            "\n",
            "Nilai unik pada kolom 'market_segment':\n",
            "['Direct' 'Corporate' 'Online TA' 'Offline TA/TO' 'Complementary' 'Groups'\n",
            " 'Other' 'Aviation']\n",
            "\n",
            "Nilai unik pada kolom 'deposit_type':\n",
            "['No Deposit' 'Refundable' 'Non Refund']\n",
            "\n",
            "Nilai unik pada kolom 'customer_type':\n",
            "['Personal' 'Contract' 'Family' 'Bussiness']\n",
            "\n",
            "Nilai unik pada kolom 'reservation_status':\n",
            "['Check-Out' 'Canceled' 'No-Show']\n",
            "\n"
          ]
        }
      ]
    },
    {
      "cell_type": "code",
      "source": [],
      "metadata": {
        "id": "ilcbLyJACxti"
      },
      "execution_count": 23,
      "outputs": []
    },
    {
      "cell_type": "markdown",
      "source": [
        "###3.handling Unnecesarry data"
      ],
      "metadata": {
        "id": "AgNBKmLnEItU"
      }
    },
    {
      "cell_type": "code",
      "source": [
        "dfbooking['Total Customer'] = dfbooking['adults'] + dfbooking['children'] + dfbooking['babies']\n",
        "dfbooking = dfbooking.drop(dfbooking[dfbooking['Total Customer'] == 0].index)"
      ],
      "metadata": {
        "id": "b6CIJERrEMRp"
      },
      "execution_count": 26,
      "outputs": []
    },
    {
      "cell_type": "markdown",
      "source": [
        "###4.handling type data\n"
      ],
      "metadata": {
        "id": "eSr-lVTdIHQC"
      }
    },
    {
      "cell_type": "code",
      "source": [
        "dfbooking['children'] = dfbooking['children'].astype('int64')\n",
        "dfbooking['agent'] = dfbooking['agent'].astype('int64')\n",
        "dfbooking['company'] = dfbooking['company'].astype('int64')"
      ],
      "metadata": {
        "id": "gglZA7IlHicH"
      },
      "execution_count": 30,
      "outputs": []
    },
    {
      "cell_type": "code",
      "source": [],
      "metadata": {
        "id": "i_eP0vthIOcC"
      },
      "execution_count": null,
      "outputs": []
    }
  ]
}